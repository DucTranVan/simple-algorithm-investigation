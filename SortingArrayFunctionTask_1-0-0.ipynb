{
  "nbformat": 4,
  "nbformat_minor": 0,
  "metadata": {
    "colab": {
      "name": "SortingArrayFunctionTask-1.0.0.ipynb",
      "provenance": [],
      "toc_visible": true,
      "authorship_tag": "ABX9TyMBqykmXG0gavk0XpAa9RIc",
      "include_colab_link": true
    },
    "kernelspec": {
      "name": "python3",
      "display_name": "Python 3"
    }
  },
  "cells": [
    {
      "cell_type": "markdown",
      "metadata": {
        "id": "view-in-github",
        "colab_type": "text"
      },
      "source": [
        "<a href=\"https://colab.research.google.com/github/DucTranVan/point_relative_polygon/blob/main/SortingArrayFunctionTask_1-0-0.ipynb\" target=\"_parent\"><img src=\"https://colab.research.google.com/assets/colab-badge.svg\" alt=\"Open In Colab\"/></a>"
      ]
    },
    {
      "cell_type": "markdown",
      "metadata": {
        "id": "fdmas4HKPxKa"
      },
      "source": [
        "# Task\n",
        "  Implementing Sorting Array Function Problem\n",
        "## Expected performance\n",
        "This function is designed to sort an array containing unique elements (from 0 to 9). The length of this array can be varied from 2 to 10.\n",
        "## Input\n",
        "An array A contains unique n-elements, whose values are integers. The length (n) of A is range\n",
        "from 2 to 10.\n",
        "## Output\n",
        "Sorted array B in ascending order. The length of array B must be the same to A.\n",
        "## Examples\n",
        "* Test case 1: A = [3,0] -> B = [0,3]\n",
        "* Test case 2: A = [1,3,2] -> B = [1,2,3]\n",
        "* Test case 3: A = [5,9,1,3,7] -> B = [1,3,5,7,9]\n",
        "* Test case 4: A = [9,8,7,6,5,4,3,2,1] -> B = [1,2,3,4,5,6,7,8,9]\n",
        "* Test case 5: ..."
      ]
    },
    {
      "cell_type": "markdown",
      "metadata": {
        "id": "kkPTGCAMMo3C"
      },
      "source": [
        "\n"
      ]
    },
    {
      "cell_type": "markdown",
      "metadata": {
        "id": "ptOZfnvrY8w2"
      },
      "source": [
        "# Main Idea"
      ]
    },
    {
      "cell_type": "markdown",
      "metadata": {
        "id": "dVsckENPZJD3"
      },
      "source": [
        "* Apply **OOP paradigm** to design the class with clear Api for user-friendly and easier to read in the future\n",
        "* Elaborating about the problem sparks me more than one algorithms in which each one optimizes for different usage context with respective trade-off. Because this is to access my coding and analysis skill, so instead just provie the most simple solution, I will implement a family of algorithms for this task and let the user to choose what suitable for their situation"
      ]
    },
    {
      "cell_type": "markdown",
      "metadata": {
        "id": "OZf-XZqqP6UZ"
      },
      "source": [
        "# Implementation\n",
        "* To write code for easy to use and high security, I will try to apply encapsulation, abstraction, inheritance, and polymorphism principle of OOP paradigm. \n",
        "* To wirte codes that easy for extend in the future,I will apply **Strategy Design Pattern** .\n",
        "This application design pattern will helps define a family of algorithms, put each of them into a separate class, and make their objects interchangeable.   \n"
      ]
    },
    {
      "cell_type": "markdown",
      "metadata": {
        "id": "D_gSNRGOdEuq"
      },
      "source": [
        "## Strategy Design Pattern Skeleton"
      ]
    },
    {
      "cell_type": "code",
      "metadata": {
        "id": "DLOv7PqRMXGo"
      },
      "source": [
        "from __future__ import annotations\n",
        "from abc import ABC, abstractmethod\n",
        "from typing import List\n",
        "\n",
        "\n",
        "class SortingArrayFunction():\n",
        "    \"\"\"\n",
        "    The SortingArrayFunction class defines the interface of interest to clients.\n",
        "    \"\"\"\n",
        "\n",
        "    def __init__(self, sorting_strategy: SortingStrategy) -> None:\n",
        "        \"\"\"\n",
        "        The SortingArrayFunction class accepts a strategy through the constructor, but\n",
        "        also provides a setter to change it at runtime.\n",
        "        \"\"\"\n",
        "\n",
        "        self._strategy = sorting_strategy\n",
        "\n",
        "    @property\n",
        "    def strategy(self) -> SortingStrategy:\n",
        "        \"\"\"\n",
        "        The SortingArrayFunction class maintains a reference to one of the Strategy objects. This\n",
        "        class does not know the concrete class of a strategy. It should work\n",
        "        with all strategies via the Strategy interface.\n",
        "        \"\"\"\n",
        "\n",
        "        return self._strategy\n",
        "\n",
        "    @strategy.setter\n",
        "    def strategy(self, sorting_strategy: SortingStrategyegy) -> None:\n",
        "        \"\"\"\n",
        "        Usually, the Context allows replacing a Strategy object at runtime.\n",
        "        \"\"\"\n",
        "\n",
        "        self._strategy = sorting_strategy\n",
        "\n",
        "    def sort(self, input_array: List) -> List:\n",
        "        \"\"\"\n",
        "        The SortingArrayFunction class delegates some work to the Strategy object instead of\n",
        "        implementing multiple versions of the algorithm on its own.\n",
        "        \"\"\"\n",
        "\n",
        "        # ...\n",
        "\n",
        "        print(\"SortingArrayFunction: Sorting data using the strategy (not sure how it'll do it)\")\n",
        "        sorted_array = self._strategy.do_sort(input_array)\n",
        "        return sorted_array\n",
        "\n",
        "        # ...\n",
        "\n",
        "\n",
        "class SortingStrategy(ABC):\n",
        "    \"\"\"\n",
        "    The Strategy interface declares operations common to all supported versions\n",
        "    of some algorithm.\n",
        "\n",
        "    The SortingArrayFunction class uses this interface to call the sorting algorithm defined by Concrete\n",
        "    Strategies.\n",
        "    \"\"\"\n",
        "\n",
        "    @abstractmethod\n",
        "    def do_sort(self, data: List):\n",
        "        pass\n"
      ],
      "execution_count": 1,
      "outputs": []
    },
    {
      "cell_type": "markdown",
      "metadata": {
        "id": "Ugq_AVb3dP4L"
      },
      "source": [
        "## Concrete Sorting Strategies Implement\n",
        "\n",
        "* Concrete Strategies implement the algorithm while following the base **SortingStrategy**\n",
        "interface. \n",
        "* The interface makes them interchangeable in the **SortingArrayFunction** Instance.\n",
        "* The Experiment code will picks a concrete sorting strategy and passes it to the SortingArrayFunction to use.\n",
        "\n"
      ]
    },
    {
      "cell_type": "markdown",
      "metadata": {
        "id": "9Wolr8xGfxmu"
      },
      "source": [
        "### 1. Python's built-in sorted() function"
      ]
    },
    {
      "cell_type": "code",
      "metadata": {
        "id": "pDP_uVREdfyW"
      },
      "source": [
        "\n",
        "class BuiltInStaregy(SortingStrategy):\n",
        "    def do_sort(self, data: List) -> List:\n",
        "        return sorted(data)\n",
        " "
      ],
      "execution_count": 2,
      "outputs": []
    },
    {
      "cell_type": "markdown",
      "metadata": {
        "id": "o92hvYXthrKR"
      },
      "source": [
        "#### Experiment"
      ]
    },
    {
      "cell_type": "code",
      "metadata": {
        "colab": {
          "base_uri": "https://localhost:8080/"
        },
        "id": "3QPy6Y4Kgklc",
        "outputId": "66e569c3-5b47-4f28-ed29-2119189f239b"
      },
      "source": [
        "# Experiemtn of Using BuiltInStaregy algorithm \n",
        "# \n",
        "sorting_array_function = SortingArrayFunction(BuiltInStaregy())\n",
        "print(\"Experiment: Strategy is set to BuiltInStaregy sorting.\")\n",
        "input_array = [1, 5, 0, 9]\n",
        "sorted_array = sorting_array_function.sort(input_array)\n",
        "print(\"input array: \", input_array)\n",
        "print(\"sorted array\",sorted_array)"
      ],
      "execution_count": 3,
      "outputs": [
        {
          "output_type": "stream",
          "text": [
            "Experiment: Strategy is set to BuiltInStaregy sorting.\n",
            "SortingArrayFunction: Sorting data using the strategy (not sure how it'll do it)\n",
            "input array:  [1, 5, 0, 9]\n",
            "sorted array [0, 1, 5, 9]\n"
          ],
          "name": "stdout"
        }
      ]
    },
    {
      "cell_type": "markdown",
      "metadata": {
        "id": "dVoZT-8Kmekf"
      },
      "source": [
        "### ML based strategy"
      ]
    },
    {
      "cell_type": "code",
      "metadata": {
        "id": "jKXHb4ozmqB-"
      },
      "source": [
        "# need to implementation"
      ],
      "execution_count": 4,
      "outputs": []
    },
    {
      "cell_type": "markdown",
      "metadata": {
        "id": "VYI7BH5hMeOG"
      },
      "source": [
        "# Test\n"
      ]
    },
    {
      "cell_type": "code",
      "metadata": {
        "id": "oVsjuFyVK9SJ"
      },
      "source": [
        "# need to implement"
      ],
      "execution_count": 5,
      "outputs": []
    },
    {
      "cell_type": "markdown",
      "metadata": {
        "id": "zURgaNSKcDil"
      },
      "source": [
        "# Limitation"
      ]
    },
    {
      "cell_type": "markdown",
      "metadata": {
        "id": "yxa3zyCha8_H"
      },
      "source": [
        "has any ?"
      ]
    }
  ]
}