{
  "nbformat": 4,
  "nbformat_minor": 0,
  "metadata": {
    "colab": {
      "name": "SortingArrayFunctionTask-1.0.1.ipynb",
      "provenance": [],
      "toc_visible": true,
      "authorship_tag": "ABX9TyML9YoSxyhWK/o3YbZGqJ2f",
      "include_colab_link": true
    },
    "kernelspec": {
      "name": "python3",
      "display_name": "Python 3"
    },
    "accelerator": "GPU"
  },
  "cells": [
    {
      "cell_type": "markdown",
      "metadata": {
        "id": "view-in-github",
        "colab_type": "text"
      },
      "source": [
        "<a href=\"https://colab.research.google.com/github/DucTranVan/point_relative_polygon/blob/main/SortingArrayFunctionTask_1_0_1.ipynb\" target=\"_parent\"><img src=\"https://colab.research.google.com/assets/colab-badge.svg\" alt=\"Open In Colab\"/></a>"
      ]
    },
    {
      "cell_type": "markdown",
      "metadata": {
        "id": "fdmas4HKPxKa"
      },
      "source": [
        "# Task\n",
        "  Implementing Sorting Array Function Problem\n",
        "## Expected performance\n",
        "This function is designed to sort an array containing unique elements (from 0 to 9). The length of this array can be varied from 2 to 10.\n",
        "## Input\n",
        "An array A contains unique n-elements, whose values are integers. The length (n) of A is range\n",
        "from 2 to 10.\n",
        "## Output\n",
        "Sorted array B in ascending order. The length of array B must be the same to A.\n",
        "## Examples\n",
        "* Test case 1: A = [3,0] -> B = [0,3]\n",
        "* Test case 2: A = [1,3,2] -> B = [1,2,3]\n",
        "* Test case 3: A = [5,9,1,3,7] -> B = [1,3,5,7,9]\n",
        "* Test case 4: A = [9,8,7,6,5,4,3,2,1] -> B = [1,2,3,4,5,6,7,8,9]\n",
        "* Test case 5: ..."
      ]
    },
    {
      "cell_type": "markdown",
      "metadata": {
        "id": "ptOZfnvrY8w2"
      },
      "source": [
        "# Main Idea"
      ]
    },
    {
      "cell_type": "markdown",
      "metadata": {
        "id": "dVsckENPZJD3"
      },
      "source": [
        "* Apply **OOP paradigm** to design the class with clear Api for user-friendly and easier to read in the future\n",
        "* Elaborating about the problem sparks me more than one algorithms in which each one optimizes for different usage context with respective trade-off. Because this is to access my coding and analysis skill, so instead just provie the most simple solution, I will implement a family of algorithms for this task and let the user to choose what suitable for their situation\n",
        "* Starting built a classical algorithm, then try out some Machine Learning approaches "
      ]
    },
    {
      "cell_type": "markdown",
      "metadata": {
        "id": "OZf-XZqqP6UZ"
      },
      "source": [
        "# Implementation\n",
        "* To write code for easy to use and high security, I will try to apply encapsulation, abstraction, inheritance, and polymorphism principle of OOP paradigm. \n",
        "* To wirte codes that easy for extend in the future,I will apply **Strategy Design Pattern** .\n",
        "This application design pattern will helps define a family of algorithms, put each of them into a separate class, and make their objects interchangeable.   \n"
      ]
    },
    {
      "cell_type": "markdown",
      "metadata": {
        "id": "D_gSNRGOdEuq"
      },
      "source": [
        "## Strategy Design Pattern Skeleton"
      ]
    },
    {
      "cell_type": "code",
      "metadata": {
        "id": "DLOv7PqRMXGo"
      },
      "source": [
        "from __future__ import annotations\n",
        "from abc import ABC, abstractmethod\n",
        "from typing import List\n",
        "\n",
        "\n",
        "class SortingArrayFunction():\n",
        "    \"\"\"\n",
        "    The SortingArrayFunction class defines the interface of interest to clients.\n",
        "    \"\"\"\n",
        "\n",
        "    def __init__(self, sorting_strategy: SortingStrategy) -> None:\n",
        "        \"\"\"\n",
        "        The SortingArrayFunction class accepts a strategy through the constructor, but\n",
        "        also provides a setter to change it at runtime.\n",
        "        \"\"\"\n",
        "\n",
        "        self._strategy = sorting_strategy\n",
        "\n",
        "    @property\n",
        "    def strategy(self) -> SortingStrategy:\n",
        "        \"\"\"\n",
        "        The SortingArrayFunction class maintains a reference to one of the Strategy objects. This\n",
        "        class does not know the concrete class of a strategy. It should work\n",
        "        with all strategies via the Strategy interface.\n",
        "        \"\"\"\n",
        "\n",
        "        return self._strategy\n",
        "\n",
        "    @strategy.setter\n",
        "    def strategy(self, sorting_strategy: SortingStrategyegy) -> None:\n",
        "        \"\"\"\n",
        "        Usually, the Context allows replacing a Strategy object at runtime.\n",
        "        \"\"\"\n",
        "\n",
        "        self._strategy = sorting_strategy\n",
        "\n",
        "    def sort(self, input_array: List) -> List:\n",
        "        \"\"\"\n",
        "        The SortingArrayFunction class delegates some work to the Strategy object instead of\n",
        "        implementing multiple versions of the algorithm on its own.\n",
        "        \"\"\"\n",
        "\n",
        "        # ...\n",
        "\n",
        "        print(\"SortingArrayFunction: Sorting data using the strategy (not sure how it'll do it)\")\n",
        "        sorted_array = self._strategy.do_sort(input_array)\n",
        "        return sorted_array\n",
        "\n",
        "        # ...\n",
        "\n",
        "\n",
        "class SortingStrategy(ABC):\n",
        "    \"\"\"\n",
        "    The Strategy interface declares operations common to all supported versions\n",
        "    of some algorithm.\n",
        "\n",
        "    The SortingArrayFunction class uses this interface to call the sorting algorithm defined by Concrete\n",
        "    Strategies.\n",
        "    \"\"\"\n",
        "\n",
        "    @abstractmethod\n",
        "    def do_sort(self, data: List):\n",
        "        pass\n"
      ],
      "execution_count": null,
      "outputs": []
    },
    {
      "cell_type": "markdown",
      "metadata": {
        "id": "Ugq_AVb3dP4L"
      },
      "source": [
        "## Concrete Sorting Strategies Implement\n",
        "\n",
        "* Concrete Strategies implement the algorithm while following the base **SortingStrategy**\n",
        "interface. \n",
        "* The interface makes them interchangeable in the **SortingArrayFunction** Instance.\n",
        "* The Experiment code will picks a concrete sorting strategy and passes it to the SortingArrayFunction to use.\n",
        "\n"
      ]
    },
    {
      "cell_type": "markdown",
      "metadata": {
        "id": "9Wolr8xGfxmu"
      },
      "source": [
        "### 1. Python's built-in sorted() function\n",
        "\n",
        "Sorting problem is already solved by classical methods (e.g. quicksort). The codes below implements a Strategy using classical algorithm at utilize the built-in sorted function of Python."
      ]
    },
    {
      "cell_type": "code",
      "metadata": {
        "id": "pDP_uVREdfyW"
      },
      "source": [
        "# My simplest solution :))\n",
        "class BuiltInStaregy(SortingStrategy):\n",
        "    def do_sort(self, data: List) -> List:\n",
        "        return sorted(data)\n",
        " "
      ],
      "execution_count": null,
      "outputs": []
    },
    {
      "cell_type": "markdown",
      "metadata": {
        "id": "cd96C5B75QBq"
      },
      "source": [
        "#### Using the algorithms with core class"
      ]
    },
    {
      "cell_type": "code",
      "metadata": {
        "colab": {
          "base_uri": "https://localhost:8080/"
        },
        "id": "3QPy6Y4Kgklc",
        "outputId": "1d8264a5-2dd6-4843-ecbc-b51a44e1bafa"
      },
      "source": [
        "# Example of codes that injects an BuiltInStaregy object to the SortingArrayFunction object \n",
        "\n",
        "sorting_array_function = SortingArrayFunction(BuiltInStaregy())\n",
        "print(\"Experiment: Strategy is set to BuiltInStaregy sorting.\")\n",
        "input_array = [1, 5, 0, 9]\n",
        "sorted_array = sorting_array_function.sort(input_array)\n",
        "print(\"input array: \", input_array)\n",
        "print(\"sorted array\",sorted_array)"
      ],
      "execution_count": null,
      "outputs": [
        {
          "output_type": "stream",
          "text": [
            "Experiment: Strategy is set to BuiltInStaregy sorting.\n",
            "SortingArrayFunction: Sorting data using the strategy (not sure how it'll do it)\n",
            "input array:  [1, 5, 0, 9]\n",
            "sorted array [0, 1, 5, 9]\n"
          ],
          "name": "stdout"
        }
      ]
    },
    {
      "cell_type": "markdown",
      "metadata": {
        "id": "dVoZT-8Kmekf"
      },
      "source": [
        "### 2. ML based strategy\n",
        "First I will try to reframe the sorting problem to the machine learning problem. Formally setting, sorting function can be represented by some many to many function which takes an input an arbitarly arranged vector and it generates the sorted vector as output. The input vector's element is intergers from 0 to 9 and it's length vary from 2 to 10."
      ]
    },
    {
      "cell_type": "markdown",
      "metadata": {
        "id": "TTRAVr7Gr13j"
      },
      "source": [
        "#### Data generating and encoding\n",
        "\n",
        "* Generate the data set \n",
        "* The length of input array can be varied from 2 to 10 and it's length is range from 2 to 10 -> padding input array with number 10 -> The input sequence to the neural network will have fixed lenth -> encode the inpuet sequences as one hot encoding.  \n",
        "\n",
        "\n",
        "\n"
      ]
    },
    {
      "cell_type": "code",
      "metadata": {
        "id": "6XE8Q_Wx2q3d",
        "colab": {
          "base_uri": "https://localhost:8080/"
        },
        "outputId": "d68f8eee-47e8-4669-bfbb-0795523934cd"
      },
      "source": [
        "import numpy as np\n",
        "np.random.seed(42) # setting random seed for get reproducible result in the future\n",
        "DATASET_SIZE= 50000\n",
        "MAX_LEN = 10\n",
        "MAX_NUMBER = 10\n",
        "x = np.zeros((DATASET_SIZE, MAX_LEN, MAX_NUMBER +1), dtype=np.bool)\n",
        "y = np.zeros((DATASET_SIZE, MAX_LEN, MAX_NUMBER +1), dtype=np.bool)\n",
        "\n",
        "X = []\n",
        "Y = []\n",
        "\n",
        "for i in range(DATASET_SIZE):\n",
        "  permutation = np.random.permutation(MAX_NUMBER)\n",
        "  sequence_len = np.random.randint(2,11)\n",
        "\n",
        "  for j in range(sequence_len, MAX_NUMBER):\n",
        "    permutation[j] = MAX_NUMBER\n",
        "\n",
        "  label = np.sort(permutation)\n",
        "  X.append(permutation)\n",
        "  Y.append(label)\n",
        "\n",
        "for ind,matrix in enumerate(X):\n",
        "    for j, elem in enumerate(matrix):\n",
        "        x[ind, j, elem] = 1\n",
        "\n",
        "for ind,matrix in enumerate(Y):\n",
        "    for j, elem in enumerate(matrix):\n",
        "        y[ind, j, elem] = 1\n",
        "\n",
        "print(\"Total input sequences:\", len(x))"
      ],
      "execution_count": null,
      "outputs": [
        {
          "output_type": "stream",
          "text": [
            "Total input sequences: 50000\n"
          ],
          "name": "stdout"
        }
      ]
    },
    {
      "cell_type": "code",
      "metadata": {
        "id": "we2BPiDYM1Lv",
        "colab": {
          "base_uri": "https://localhost:8080/"
        },
        "outputId": "ec80964e-55f0-4c35-c2a7-ec0e567c124e"
      },
      "source": [
        "# Explicitly set apart 10% for validation data that we never train over.\n",
        "split_at = len(x) - len(x) // 10\n",
        "(x_train, x_val) = x[:split_at], x[split_at:]\n",
        "(y_train, y_val) = y[:split_at], y[split_at:]\n",
        "\n",
        "(X_train, X_val) = X[:split_at], X[split_at:]\n",
        "(Y_train, Y_val) = Y[:split_at], Y[split_at:]\n",
        "\n",
        "print(\"Training Data:\")\n",
        "print(x_train.shape)\n",
        "print(y_train.shape)\n",
        "\n",
        "print(\"Validation Data:\")\n",
        "print(x_val.shape)\n",
        "print(y_val.shape)"
      ],
      "execution_count": null,
      "outputs": [
        {
          "output_type": "stream",
          "text": [
            "Training Data:\n",
            "(45000, 10, 11)\n",
            "(45000, 10, 11)\n",
            "Validation Data:\n",
            "(5000, 10, 11)\n",
            "(5000, 10, 11)\n"
          ],
          "name": "stdout"
        }
      ]
    },
    {
      "cell_type": "markdown",
      "metadata": {
        "id": "tinHeaC5oaN1"
      },
      "source": [
        "#### Baseline idea\n",
        "This problem can be viewed as the task that requires us to learn a function which maps  sequences numbers to permutation of the input sequences that has ascending order.\n",
        "From the nattural structure of the problem, I will make an experiment using an Seq2seq model architecture as a baseline solution for the problem."
      ]
    },
    {
      "cell_type": "code",
      "metadata": {
        "id": "KhGl98LE_Zdk",
        "colab": {
          "base_uri": "https://localhost:8080/"
        },
        "outputId": "87c2d2f4-2b39-4a62-a937-2991119b955f"
      },
      "source": [
        "# Build model\n",
        "from tensorflow import keras\n",
        "from tensorflow.keras import layers\n",
        "\n",
        "num_layers = 1\n",
        "\n",
        "model = keras.Sequential()\n",
        "model.add(layers.LSTM(128, input_shape=(MAX_LEN, MAX_NUMBER + 1)))\n",
        "from tensorflow.keras import layers\n",
        "model.add(layers.Dropout(0.25))\n",
        "model.add(layers.RepeatVector(MAX_LEN))\n",
        "\n",
        "for _ in range(num_layers):\n",
        "    model.add(layers.LSTM(128, return_sequences=True))\n",
        "\n",
        "model.add(layers.Dropout(0.5))\n",
        "model.add(layers.Dense(MAX_NUMBER + 1, activation=\"softmax\"))\n",
        "\n",
        "model.compile(loss=\"categorical_crossentropy\", optimizer=\"adam\", metrics=[\"accuracy\"])\n",
        "model.summary()"
      ],
      "execution_count": null,
      "outputs": [
        {
          "output_type": "stream",
          "text": [
            "Model: \"sequential\"\n",
            "_________________________________________________________________\n",
            "Layer (type)                 Output Shape              Param #   \n",
            "=================================================================\n",
            "lstm (LSTM)                  (None, 128)               71680     \n",
            "_________________________________________________________________\n",
            "dropout (Dropout)            (None, 128)               0         \n",
            "_________________________________________________________________\n",
            "repeat_vector (RepeatVector) (None, 10, 128)           0         \n",
            "_________________________________________________________________\n",
            "lstm_1 (LSTM)                (None, 10, 128)           131584    \n",
            "_________________________________________________________________\n",
            "dropout_1 (Dropout)          (None, 10, 128)           0         \n",
            "_________________________________________________________________\n",
            "dense (Dense)                (None, 10, 11)            1419      \n",
            "=================================================================\n",
            "Total params: 204,683\n",
            "Trainable params: 204,683\n",
            "Non-trainable params: 0\n",
            "_________________________________________________________________\n"
          ],
          "name": "stdout"
        }
      ]
    },
    {
      "cell_type": "code",
      "metadata": {
        "id": "Us7rEgWs2fJi",
        "colab": {
          "base_uri": "https://localhost:8080/",
          "height": 627
        },
        "outputId": "68109e94-b1ab-43ea-af94-29c2a32b3328"
      },
      "source": [
        "# Training and Evaluating\n",
        "\n",
        "import matplotlib.pyplot as plt\n",
        "history = model.fit(x, y, validation_split=0.2, epochs=18, batch_size=32, verbose=0)\n",
        "print(history.history['accuracy'])\n",
        "print(history.history['val_accuracy'])\n",
        "\n",
        "# summarize history for accuracy\n",
        "plt.plot(history.history['accuracy'])\n",
        "plt.plot(history.history['val_accuracy'])\n",
        "plt.title('model accuracy')\n",
        "plt.ylabel('accuracy')\n",
        "plt.xlabel('epoch')\n",
        "plt.legend(['train', 'test'], loc='upper left')\n",
        "plt.show()\n",
        "# summarize history for loss\n",
        "plt.plot(history.history['loss'])\n",
        "plt.plot(history.history['val_loss'])\n",
        "plt.title('model loss')\n",
        "plt.ylabel('loss')\n",
        "plt.xlabel('epoch')\n",
        "plt.legend(['train', 'test'], loc='upper left')\n",
        "plt.show()"
      ],
      "execution_count": null,
      "outputs": [
        {
          "output_type": "stream",
          "text": [
            "[0.8092150092124939, 0.9762275218963623, 0.9922574758529663, 0.9935625195503235, 0.9953699707984924, 0.9974700212478638, 0.9973300099372864, 0.9978024959564209, 0.9973549842834473, 0.9985600113868713, 0.9983274936676025, 0.9978824853897095, 0.9995499849319458, 0.9983000159263611, 0.9980025291442871, 0.9995275139808655, 0.9986674785614014, 0.9990925192832947]\n",
            "[0.9842900037765503, 0.9625800251960754, 1.0, 1.0, 0.9995899796485901, 0.9992300271987915, 1.0, 1.0, 1.0, 1.0, 1.0, 1.0, 0.9998999834060669, 1.0, 1.0, 1.0, 1.0, 1.0]\n"
          ],
          "name": "stdout"
        },
        {
          "output_type": "display_data",
          "data": {
            "image/png": "[encoded data removed]",
            "text/plain": [
              "<Figure size 432x288 with 1 Axes>"
            ]
          },
          "metadata": {
            "tags": [],
            "needs_background": "light"
          }
        },
        {
          "output_type": "display_data",
          "data": {
            "image/png": "[encoded data removed]",
            "text/plain": [
              "<Figure size 432x288 with 1 Axes>"
            ]
          },
          "metadata": {
            "tags": [],
            "needs_background": "light"
          }
        }
      ]
    },
    {
      "cell_type": "code",
      "metadata": {
        "id": "RzOfsMfDEUtv",
        "colab": {
          "base_uri": "https://localhost:8080/"
        },
        "outputId": "e2583b68-78ec-4364-b02c-9ebf307c02d8"
      },
      "source": [
        "# Select 5 samples from the validation set at random so we can visualize errors.\n",
        "for i in range(5):\n",
        "    ind = np.random.randint(0, len(x_val))\n",
        "    rowx, rowy = x_val[np.array([ind])], y_val[np.array([ind])]\n",
        "    preds = np.argmax(model.predict(rowx), axis=-1)\n",
        "\n",
        "    rowX, rowY = X_val[ind], Y_val[ind]\n",
        "    input = [i for i in rowX if i < 10]\n",
        "    label = [i for i in rowY if i < 10]\n",
        "    print(\"input: \", input)\n",
        "    print(\"label: \", label)\n",
        "    print(\"prediction: \", preds[0][:len(label)])"
      ],
      "execution_count": null,
      "outputs": [
        {
          "output_type": "stream",
          "text": [
            "input:  [9, 7, 1, 0, 6, 5, 2, 8, 4, 3]\n",
            "label:  [0, 1, 2, 3, 4, 5, 6, 7, 8, 9]\n",
            "prediction:  [0 1 2 3 4 5 6 7 8 9]\n",
            "input:  [5, 8, 6, 9]\n",
            "label:  [5, 6, 8, 9]\n",
            "prediction:  [5 6 8 9]\n",
            "input:  [2, 9, 0, 4, 3, 5, 7, 8]\n",
            "label:  [0, 2, 3, 4, 5, 7, 8, 9]\n",
            "prediction:  [0 2 3 4 5 7 8 9]\n",
            "input:  [4, 2, 7, 9, 8, 6, 3, 0]\n",
            "label:  [0, 2, 3, 4, 6, 7, 8, 9]\n",
            "prediction:  [0 2 3 4 6 7 8 9]\n",
            "input:  [7, 0, 4, 9, 5]\n",
            "label:  [0, 4, 5, 7, 9]\n",
            "prediction:  [0 4 5 7 9]\n"
          ],
          "name": "stdout"
        }
      ]
    },
    {
      "cell_type": "code",
      "metadata": {
        "id": "rgLfSkU23tDn",
        "colab": {
          "base_uri": "https://localhost:8080/"
        },
        "outputId": "9729d1da-61aa-45bc-ee62-c01b7afd0618"
      },
      "source": [
        "# save model\n",
        "model.save(\"seq2seq-1.0.1\")"
      ],
      "execution_count": null,
      "outputs": [
        {
          "output_type": "stream",
          "text": [
            "WARNING:absl:Found untraced functions such as lstm_cell_layer_call_fn, lstm_cell_layer_call_and_return_conditional_losses, lstm_cell_1_layer_call_fn, lstm_cell_1_layer_call_and_return_conditional_losses, lstm_cell_layer_call_fn while saving (showing 5 of 10). These functions will not be directly callable after loading.\n",
            "WARNING:absl:Found untraced functions such as lstm_cell_layer_call_fn, lstm_cell_layer_call_and_return_conditional_losses, lstm_cell_1_layer_call_fn, lstm_cell_1_layer_call_and_return_conditional_losses, lstm_cell_layer_call_fn while saving (showing 5 of 10). These functions will not be directly callable after loading.\n"
          ],
          "name": "stderr"
        },
        {
          "output_type": "stream",
          "text": [
            "INFO:tensorflow:Assets written to: seq2seq-1.0.1/assets\n"
          ],
          "name": "stdout"
        },
        {
          "output_type": "stream",
          "text": [
            "INFO:tensorflow:Assets written to: seq2seq-1.0.1/assets\n"
          ],
          "name": "stderr"
        }
      ]
    },
    {
      "cell_type": "markdown",
      "metadata": {
        "id": "XNi57Sbe5jFk"
      },
      "source": [
        "#### Using the model with the main class"
      ]
    },
    {
      "cell_type": "code",
      "metadata": {
        "id": "bhHDSmz65Mz5"
      },
      "source": [
        "\n",
        "class Seq2SeqStaregy(SortingStrategy):\n",
        "    def __init__(self, model_path):\n",
        "      self.__model = keras.models.load_model(\"seq2seq-1.0.1\")\n",
        "    def __encode(self, input):\n",
        "      input_array = input.copy()\n",
        "      lack = 10 - len(input_array)\n",
        "\n",
        "      for i in range(lack):\n",
        "        input_array.append(MAX_NUMBER)\n",
        "\n",
        "      encoded_input = np.zeros((1, MAX_LEN, MAX_NUMBER +1), dtype=np.bool)\n",
        "      for i, elem in enumerate(input_array):\n",
        "        encoded_input[0][i,elem] = 1\n",
        "      return encoded_input\n",
        "\n",
        "    def do_sort(self, data: List) -> List:\n",
        "      encoded_input = self.__encode(data)\n",
        "      preds = np.argmax(self.__model.predict(encoded_input), axis=-1)\n",
        "      sorted_array =  preds[0][:len(data)]\n",
        "      return sorted_array"
      ],
      "execution_count": null,
      "outputs": []
    },
    {
      "cell_type": "code",
      "metadata": {
        "id": "MN9SgwXR_YpS",
        "colab": {
          "base_uri": "https://localhost:8080/"
        },
        "outputId": "0b95982f-1360-4199-c666-f6178114b025"
      },
      "source": [
        "# Example of codes that injects an Seq2SeqStaregy object to the SortingArrayFunction object \n",
        "\n",
        "sorting_array_function = SortingArrayFunction(Seq2SeqStaregy(model_path=\"seq2seq\"))\n",
        "print(\"Experiment: Strategy is set to BuiltInStaregy sorting.\")\n",
        "input_array =  [7, 3, 4, 1]\n",
        "sorted_array = sorting_array_function.sort(input_array)\n",
        "print(\"input array: \", input_array)\n",
        "print(\"sorted array\",sorted_array)"
      ],
      "execution_count": null,
      "outputs": [
        {
          "output_type": "stream",
          "text": [
            "Experiment: Strategy is set to BuiltInStaregy sorting.\n",
            "SortingArrayFunction: Sorting data using the strategy (not sure how it'll do it)\n",
            "input array:  [7, 3, 4, 1]\n",
            "sorted array [1 3 4 7]\n"
          ],
          "name": "stdout"
        }
      ]
    },
    {
      "cell_type": "markdown",
      "metadata": {
        "id": "zURgaNSKcDil"
      },
      "source": [
        "# Some other promise approaches"
      ]
    },
    {
      "cell_type": "markdown",
      "metadata": {
        "id": "yxa3zyCha8_H"
      },
      "source": [
        "* CNN based : intuitively, pooling operation seem to be promise beacause the max pooling for example can use to deal with the order of number\n",
        "* Attention mechanism: why not try ?\n",
        "* Pointer Networks: https://arxiv.org/pdf/1506.03134.pdf"
      ]
    }
  ]
}