{
  "nbformat": 4,
  "nbformat_minor": 0,
  "metadata": {
    "colab": {
      "name": "Point_Inside_Polygon.ipynb",
      "provenance": [],
      "toc_visible": true,
      "authorship_tag": "ABX9TyPdyCLdFYOnH3iTt432KNBq",
      "include_colab_link": true
    },
    "kernelspec": {
      "name": "python3",
      "display_name": "Python 3"
    }
  },
  "cells": [
    {
      "cell_type": "markdown",
      "metadata": {
        "id": "view-in-github",
        "colab_type": "text"
      },
      "source": [
        "<a href=\"https://colab.research.google.com/github/DucTranVan/point_relative_polygon/blob/main/Point_Inside_Polygon.ipynb\" target=\"_parent\"><img src=\"https://colab.research.google.com/assets/colab-badge.svg\" alt=\"Open In Colab\"/></a>"
      ]
    },
    {
      "cell_type": "markdown",
      "metadata": {
        "id": "fdmas4HKPxKa"
      },
      "source": [
        "# Problem"
      ]
    },
    {
      "cell_type": "markdown",
      "metadata": {
        "id": "kkPTGCAMMo3C"
      },
      "source": [
        "Given a polygon and a point p, determine whether p lies inside of the polygon or not.\n",
        "\n",
        "Input: list n point [(x0, y0), (x1,y1), ...(xn, yn)] represents the polygon and point p (xp, yp)\n",
        "\n",
        "Output: True if p lies inside or on the boudary of the polygon, otherwise return False."
      ]
    },
    {
      "cell_type": "markdown",
      "metadata": {
        "id": "ptOZfnvrY8w2"
      },
      "source": [
        "# Main Idea"
      ]
    },
    {
      "cell_type": "markdown",
      "metadata": {
        "id": "dVsckENPZJD3"
      },
      "source": [
        "Move from the tested poit to the infinite ( to make sure oudside of the polygon). If we crosses the boundary of a polygon, then it change state (between inside and outside)"
      ]
    },
    {
      "cell_type": "markdown",
      "metadata": {
        "id": "OZf-XZqqP6UZ"
      },
      "source": [
        "# Solution Implementation\n"
      ]
    },
    {
      "cell_type": "code",
      "metadata": {
        "id": "DLOv7PqRMXGo"
      },
      "source": [
        "## Helper function check whether the point is on the edge\n",
        "def is_on_the_edge(edge, point):\n",
        "  A, B = edge\n",
        "  P = point\n",
        "\n",
        "  # col =0 if  A, B, P are colinear\n",
        "  col = (P[0] - A[0]) * (B[1] - A[1]) - (B[0]- A[0]) * (P[1] - A[1])\n",
        "  \n",
        "  is_between = ((P[0] <= max(A[0], B[0])) &             \n",
        "              (P[0] >= min(A[0], B[0])) &\n",
        "              (P[1] <= max(A[1], B[1])) &\n",
        "              (P[1] >= min(A[1], B[1])))\n",
        "  \n",
        "  if ((col == 0) & is_between):\n",
        "      return True\n",
        "  else:\n",
        "    return False\n",
        "\n",
        "## Helper function check whether the horizontal line to the right of the point \n",
        "# pass an edge of the polygon\n",
        "def is_change_status(edge, point):\n",
        "    A, B = edge\n",
        "    P = point\n",
        "\n",
        "    if (A[1] == B[1]):\n",
        "      return False\n",
        "\n",
        "    # check if the horizontal line to the right of the point\n",
        "    # y = P[1] (x >= P[0]) intersect with \n",
        "    # the edge at an vertex A or B\n",
        "    if (A[1] == P[1]):\n",
        "      if ((B[1] < P[1]) & (B[0] >= P[0])):\n",
        "        return True\n",
        "      else:\n",
        "        return False\n",
        "\n",
        "    if (B[1] == P[1]):\n",
        "      if ((A[1] < P[1]) & (A[0] >= P[0])):\n",
        "        return True\n",
        "      else:\n",
        "        return False\n",
        "    \n",
        "\n",
        "    if (A[0] == B[0]):\n",
        "      if ((A[0] >= P[0]) &\n",
        "        (P[1] <= max(A[1], B[1])) &\n",
        "        (P[1] >= min(A[1], B[1]))):\n",
        "        return True\n",
        "      else:\n",
        "        return False\n",
        "    else:\n",
        "      x_intersect = (P[1]*(A[0] - B[0]) - A[0]*B[1] + A[1]*B[0])/(A[1] - B[1])\n",
        "      if ((x_intersect >= P[0]) &\n",
        "        (P[1] <= max(A[1], B[1])) &\n",
        "        (P[1] >= min(A[1], B[1]))):\n",
        "        return True\n",
        "      else:\n",
        "        return False\n",
        "\n",
        "\n",
        "\n",
        "# This function checks whether a point lies inside or outside a polygon\n",
        "def is_inside_polygon(polygon, point):\n",
        "  is_inside = False\n",
        "  number_of_vertices = len(polygon)\n",
        "\n",
        "  # polygon must have at least 3 vertices\n",
        "  if number_of_vertices < 3:\n",
        "    return False\n",
        "  \n",
        "  for index in range(number_of_vertices):\n",
        "    if (index == number_of_vertices -1):\n",
        "      next_index = 0\n",
        "    else:\n",
        "      next_index = index + 1\n",
        "\n",
        "    current_vertex = polygon[index]\n",
        "    next_vertex = polygon[next_index]\n",
        "\n",
        "    if ((current_vertex[0] == next_vertex[0]) &\n",
        "        (current_vertex[1] == next_vertex[1])):\n",
        "      continue\n",
        "\n",
        "    edge = (current_vertex, next_vertex)\n",
        "\n",
        "    if is_on_the_edge(edge, point):\n",
        "      return True\n",
        "\n",
        "    if is_change_status(edge, point):\n",
        "      is_inside = (not is_inside)\n",
        "  \n",
        "  return is_inside\n",
        "    \n",
        "   \n",
        "  "
      ],
      "execution_count": 65,
      "outputs": []
    },
    {
      "cell_type": "markdown",
      "metadata": {
        "id": "VYI7BH5hMeOG"
      },
      "source": [
        "# Testing\n"
      ]
    },
    {
      "cell_type": "code",
      "metadata": {
        "colab": {
          "base_uri": "https://localhost:8080/"
        },
        "id": "oVsjuFyVK9SJ",
        "outputId": "0718025d-dc7b-4d8c-ffbd-fc1051a69b45"
      },
      "source": [
        "polygon = [ (1, 2), (2, 4), (2.5, 6), (6, 7), (9, 4), (6, 0) ]    \n",
        "p = (1.2, 2.35)\n",
        "    \n",
        "if (is_inside_polygon(polygon, p)):\n",
        "  print ('Yes')\n",
        "else:\n",
        "  print ('No')"
      ],
      "execution_count": 66,
      "outputs": [
        {
          "output_type": "stream",
          "text": [
            "Yes\n"
          ],
          "name": "stdout"
        }
      ]
    },
    {
      "cell_type": "markdown",
      "metadata": {
        "id": "kAP0LAtKayzA"
      },
      "source": [
        "\n",
        "\n",
        "```\n",
        "# This is formatted as code\n",
        "```\n",
        "\n",
        "# Limited and Improve in future"
      ]
    },
    {
      "cell_type": "markdown",
      "metadata": {
        "id": "yxa3zyCha8_H"
      },
      "source": [
        "This code is prone to finite precision arithmetics problem."
      ]
    }
  ]
}